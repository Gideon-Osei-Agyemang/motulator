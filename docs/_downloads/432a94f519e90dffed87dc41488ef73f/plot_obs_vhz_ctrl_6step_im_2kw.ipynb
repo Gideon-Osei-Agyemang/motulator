{
  "cells": [
    {
      "cell_type": "code",
      "execution_count": null,
      "metadata": {
        "collapsed": false
      },
      "outputs": [],
      "source": [
        "%matplotlib inline"
      ]
    },
    {
      "cell_type": "markdown",
      "metadata": {},
      "source": [
        "\n# Observer-based V/Hz control up to the 6-step mode: 2.2-kW induction motor\n\nThis example simulates observer-based V/Hz control of a 2.2-kW induction motor\ndrive. The six-step overmodulation is enabled, which increases the fundamental\nvoltage as well as the harmonics. Since the PWM is not synchronized with the\nstator freuqency, the harmonic content also depends on the ratio between the\nstator frequency and the sampling frequency.\n"
      ]
    },
    {
      "cell_type": "markdown",
      "metadata": {},
      "source": [
        "Import the packages.\n\n"
      ]
    },
    {
      "cell_type": "code",
      "execution_count": null,
      "metadata": {
        "collapsed": false
      },
      "outputs": [],
      "source": [
        "import numpy as np\nimport motulator as mt"
      ]
    },
    {
      "cell_type": "markdown",
      "metadata": {},
      "source": [
        "Compute base values based on the nominal values (just for figures).\n\n"
      ]
    },
    {
      "cell_type": "code",
      "execution_count": null,
      "metadata": {
        "collapsed": false
      },
      "outputs": [],
      "source": [
        "base = mt.BaseValues(\n    U_nom=400,  # Line-line rms voltage\n    I_nom=5,  # Rms current\n    f_nom=50,  # Frequency\n    tau_nom=14.6,  # Torque\n    P_nom=2.2e3,  # Power\n    p=2)  # Number of pole pairs"
      ]
    },
    {
      "cell_type": "markdown",
      "metadata": {},
      "source": [
        "Configure the system model.\n\n"
      ]
    },
    {
      "cell_type": "code",
      "execution_count": null,
      "metadata": {
        "collapsed": false
      },
      "outputs": [],
      "source": [
        "# Configure the induction motor using its inverse-\u0393 parameters\nmotor = mt.InductionMotorInvGamma(R_s=3.7, R_R=2.1, L_sgm=.021, L_M=.224, p=2)\n\nmech = mt.Mechanics(J=.016)  # Mechanics model\nconv = mt.Inverter(u_dc=540)  # Inverter model\nmdl = mt.InductionMotorDrive(motor, mech, conv)  # System model"
      ]
    },
    {
      "cell_type": "markdown",
      "metadata": {},
      "source": [
        "Configure the control system.\n\n"
      ]
    },
    {
      "cell_type": "code",
      "execution_count": null,
      "metadata": {
        "collapsed": false
      },
      "outputs": [],
      "source": [
        "ctrl = mt.InductionMotorVHzObsCtrl(\n    mt.InductionMotorObsVHzCtrlPars(\n        slip_compensation=False,\n        six_step=True,\n        T_s=250e-6,\n        alpha_f=2*np.pi*4))"
      ]
    },
    {
      "cell_type": "markdown",
      "metadata": {},
      "source": [
        "Set the speed reference and the external load torque.\n\n"
      ]
    },
    {
      "cell_type": "code",
      "execution_count": null,
      "metadata": {
        "collapsed": false
      },
      "outputs": [],
      "source": [
        "# Speed reference\ntimes = np.array([0, .1, .3, 1])*2\nvalues = np.array([0, 0, 1, 1])*base.w*2\nctrl.w_m_ref = mt.Sequence(times, values)\n\n# Quadratic load torque profile (corresponding to pumps and fans)\nk = .2*base.tau_nom/(base.w/base.p)**2\nmdl.mech.tau_L_w = lambda w_M: k*w_M**2*np.sign(w_M)\n# External load torque could be set here, now zero\nmdl.mech.tau_L_t = lambda t: (t > 1.)*base.tau_nom*0"
      ]
    },
    {
      "cell_type": "markdown",
      "metadata": {},
      "source": [
        "Create the simulation object and simulate it.\n\n"
      ]
    },
    {
      "cell_type": "code",
      "execution_count": null,
      "metadata": {
        "collapsed": false
      },
      "outputs": [],
      "source": [
        "sim = mt.Simulation(mdl, ctrl, pwm=True, delay=1)\nsim.simulate(t_stop=2)"
      ]
    },
    {
      "cell_type": "markdown",
      "metadata": {},
      "source": [
        "Plot results in per-unit values. By omitting the argument `base` you can plot\nthe results in SI units.\n\n"
      ]
    },
    {
      "cell_type": "code",
      "execution_count": null,
      "metadata": {
        "collapsed": false
      },
      "outputs": [],
      "source": [
        "# sphinx_gallery_thumbnail_number = 2\nmt.plot(sim, base=base)\nmt.plot_extra(sim, t_span=(0.58, 0.7), base=base)"
      ]
    }
  ],
  "metadata": {
    "kernelspec": {
      "display_name": "Python 3",
      "language": "python",
      "name": "python3"
    },
    "language_info": {
      "codemirror_mode": {
        "name": "ipython",
        "version": 3
      },
      "file_extension": ".py",
      "mimetype": "text/x-python",
      "name": "python",
      "nbconvert_exporter": "python",
      "pygments_lexer": "ipython3",
      "version": "3.8.2"
    }
  },
  "nbformat": 4,
  "nbformat_minor": 0
}