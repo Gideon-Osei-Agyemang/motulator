{
  "cells": [
    {
      "cell_type": "code",
      "execution_count": null,
      "metadata": {
        "collapsed": false
      },
      "outputs": [],
      "source": [
        "%matplotlib inline"
      ]
    },
    {
      "cell_type": "markdown",
      "metadata": {},
      "source": [
        "\n# Observer-based V/Hz control: PMSM with 2-mass mechanics\n\nThis example simulates observer-based V/Hz control of a 2.2-kW PMSM drive. The\nmechanical subsystem is modeled as a two-mass system. The resonance frequency\nof the mechanics is around 85 Hz. The mechanical parameters correspond\napproximately to https://doi.org/10.1109/tia.2015.2416128, except that the\ntorsional damping is set to a smaller value in this example.\n"
      ]
    },
    {
      "cell_type": "markdown",
      "metadata": {},
      "source": [
        "Import the packages.\n\n"
      ]
    },
    {
      "cell_type": "code",
      "execution_count": null,
      "metadata": {
        "collapsed": false
      },
      "outputs": [],
      "source": [
        "import numpy as np\nimport motulator as mt\nimport matplotlib.pyplot as plt"
      ]
    },
    {
      "cell_type": "markdown",
      "metadata": {},
      "source": [
        "Compute base values based on the nominal values (just for figures).\n\n"
      ]
    },
    {
      "cell_type": "code",
      "execution_count": null,
      "metadata": {
        "collapsed": false
      },
      "outputs": [],
      "source": [
        "base = mt.BaseValues(\n    U_nom=370, I_nom=4.3, f_nom=75, tau_nom=14, P_nom=2.2e3, p=3)"
      ]
    },
    {
      "cell_type": "markdown",
      "metadata": {},
      "source": [
        "Configure the system model.\n\n"
      ]
    },
    {
      "cell_type": "code",
      "execution_count": null,
      "metadata": {
        "collapsed": false
      },
      "outputs": [],
      "source": [
        "mech = mt.MechanicsTwoMass(J_M=.005, J_L=.005, K_S=700, C_S=.01)\nmotor = mt.SynchronousMotor()\nconv = mt.Inverter()\nmdl = mt.SynchronousMotorDriveTwoMass(motor, mech, conv)"
      ]
    },
    {
      "cell_type": "markdown",
      "metadata": {},
      "source": [
        "Configure the control system.\n\n"
      ]
    },
    {
      "cell_type": "code",
      "execution_count": null,
      "metadata": {
        "collapsed": false
      },
      "outputs": [],
      "source": [
        "pars = mt.SynchronousMotorVHzObsCtrlPars()\nctrl = mt.SynchronousMotorVHzObsCtrl(pars)\n\n# Default sensorless vector control is unstable (uncomment to try)\n# pars = mt.SynchronousMotorVectorCtrlPars(sensorless=True, J=0.01)\n# ctrl = mt.SynchronousMotorVectorCtrl(pars)"
      ]
    },
    {
      "cell_type": "markdown",
      "metadata": {},
      "source": [
        "Set the speed reference and the external load torque.\n\n"
      ]
    },
    {
      "cell_type": "code",
      "execution_count": null,
      "metadata": {
        "collapsed": false
      },
      "outputs": [],
      "source": [
        "# Speed reference\ntimes = np.array([0, .1, .2, 1])\nvalues = np.array([0, 0, 1, 1])*base.w*.5\nctrl.w_m_ref = mt.Sequence(times, values)\n# External load torque\ntimes = np.array([0, .4, .4, 1])\nvalues = np.array([0, 0, 1, 1])*base.tau_nom\nmdl.mech.tau_L_t = mt.Sequence(times, values)"
      ]
    },
    {
      "cell_type": "markdown",
      "metadata": {},
      "source": [
        "Create the simulation object and simulate it.\n\n"
      ]
    },
    {
      "cell_type": "code",
      "execution_count": null,
      "metadata": {
        "collapsed": false
      },
      "outputs": [],
      "source": [
        "sim = mt.Simulation(mdl, ctrl, pwm=False)\nsim.simulate(t_stop=1.2)\n# sphinx_gallery_thumbnail_number = 3\nmt.plot(sim, base=base)  # Plot results in per-unit values"
      ]
    },
    {
      "cell_type": "markdown",
      "metadata": {},
      "source": [
        "Plot the load speed and the twist angle.\n\n"
      ]
    },
    {
      "cell_type": "code",
      "execution_count": null,
      "metadata": {
        "collapsed": false
      },
      "outputs": [],
      "source": [
        "def plot(sim, t_span=None):\n    \"\"\"Plot the load speed and the twist angle.\"\"\"\n    # Continuous-time data\n    mdl = sim.mdl.data\n    # Plot\n    fig, (ax1, ax2) = plt.subplots(2, 1, figsize=(8, 5))\n    ax1.plot(mdl.t, mdl.w_M, label=r'$\\omega_\\mathrm{M}$')\n    ax1.plot(mdl.t, mdl.w_L, label=r'$\\omega_\\mathrm{L}$')\n    ax2.plot(mdl.t, mdl.theta_ML*180/np.pi)\n    ax1.set_xlim(t_span)\n    ax2.set_xlim(t_span)\n    ax1.set_xticklabels([])\n    ax1.set_ylabel(r'$\\omega_\\mathrm{M}$, $\\omega_\\mathrm{L}$ (rad/s)')\n    ax2.set_ylabel(r'$\\vartheta_\\mathrm{ML}$ (deg)')\n    ax2.set_xlabel('Time (s)')\n\n\nplot(sim, t_span=(0, 1.2))"
      ]
    },
    {
      "cell_type": "markdown",
      "metadata": {},
      "source": [
        "Plot also the frequency response from the electromagnetic torque tau_M to the\nrotor speed w_M.\n\n"
      ]
    },
    {
      "cell_type": "code",
      "execution_count": null,
      "metadata": {
        "collapsed": false
      },
      "outputs": [],
      "source": [
        "def plot_freq_resp(mech, f_span=None, num=200):\n    \"\"\"Plot the frequency response.\"\"\"\n    # Parameters\n    J_M, J_L, K_S, C_S = mech.J_M, mech.J_L, mech.K_S, mech.C_S\n    # Frequencies\n    w = 2*np.pi*np.logspace(np.log10(f_span[0]), np.log10(f_span[-1]), num=num)\n    s = 1j*w\n    # Frequency response\n    B = J_L*s**2 + C_S*s + K_S\n    A = s*(J_M*J_L*s**2 + (J_M + J_L)*C_S*s + (J_M + J_L)*K_S)\n    G = B/A\n    # Plot figure\n    fig, (ax1, ax2) = plt.subplots(2, 1, figsize=(8, 5))\n    ax1.loglog(w/(2*np.pi), np.abs(G))\n    ax1.set_xticklabels([])\n    ax2.semilogx(w/(2*np.pi), np.angle(G)*180/np.pi)\n    ax1.set_xlim(f_span)\n    ax2.set_xlim(f_span)\n    ax2.set_ylim([-100, 100])\n    ax2.set_yticks([-90, -45, 0, 45, 90])\n    ax1.set_ylabel(r'Amplitude (rad/(s$\\cdot$Nm))')\n    ax2.set_ylabel('Phase (deg)')\n    ax2.set_xlabel('Frequency (Hz)')\n    fig.align_ylabels()\n\n\nplot_freq_resp(mech, f_span=(5, 500))"
      ]
    }
  ],
  "metadata": {
    "kernelspec": {
      "display_name": "Python 3",
      "language": "python",
      "name": "python3"
    },
    "language_info": {
      "codemirror_mode": {
        "name": "ipython",
        "version": 3
      },
      "file_extension": ".py",
      "mimetype": "text/x-python",
      "name": "python",
      "nbconvert_exporter": "python",
      "pygments_lexer": "ipython3",
      "version": "3.8.2"
    }
  },
  "nbformat": 4,
  "nbformat_minor": 0
}