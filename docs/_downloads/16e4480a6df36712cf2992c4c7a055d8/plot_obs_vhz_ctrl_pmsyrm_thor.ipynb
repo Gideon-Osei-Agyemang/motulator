{
  "cells": [
    {
      "cell_type": "code",
      "execution_count": null,
      "metadata": {
        "collapsed": false
      },
      "outputs": [],
      "source": [
        "%matplotlib inline"
      ]
    },
    {
      "cell_type": "markdown",
      "metadata": {},
      "source": [
        "\n# Observer-based V/Hz control: 7.5-kW PM-SyRM\n\nThis example simulates observer-based V/Hz control of a saturated 7.5-kW\npermanent-magnet synchronous reluctance motor. This example machine is known as\nTHOR, and its flux maps are from the SyR-e project:\n\n    https://github.com/SyR-e/syre_public\n\nThe THOR data has been licensed under the Apache License, Version 2.0. The flux\nmaps from other sources can be used in the similar manner. To study the flux\nmaps in more detail, see also the module `sm_flux_maps`. It is worth noticing\nthat the saturation is not taken into account in the control method, only in\nthe system model. Naturally, the control performance can be improved by taking\nthe saturation into account in the control algorithm.\n"
      ]
    },
    {
      "cell_type": "markdown",
      "metadata": {},
      "source": [
        "Import the package.\n\n"
      ]
    },
    {
      "cell_type": "code",
      "execution_count": null,
      "metadata": {
        "collapsed": false
      },
      "outputs": [],
      "source": [
        "import numpy as np\nimport motulator as mt"
      ]
    },
    {
      "cell_type": "markdown",
      "metadata": {},
      "source": [
        "Compute base values based on the nominal values (just for figures).\n\n"
      ]
    },
    {
      "cell_type": "code",
      "execution_count": null,
      "metadata": {
        "collapsed": false
      },
      "outputs": [],
      "source": [
        "base = mt.BaseValues(\n    U_nom=284, I_nom=18, f_nom=100, tau_nom=23.8, P_nom=7.5e3, p=2)"
      ]
    },
    {
      "cell_type": "markdown",
      "metadata": {},
      "source": [
        "# Load and plot the flux maps.\n\n"
      ]
    },
    {
      "cell_type": "code",
      "execution_count": null,
      "metadata": {
        "collapsed": false
      },
      "outputs": [],
      "source": [
        "data = mt.import_syre_data(fname='THOR.mat')\nmt.plot_flux_vs_current(data)\nmt.plot_flux_map(data)"
      ]
    },
    {
      "cell_type": "markdown",
      "metadata": {},
      "source": [
        "Configure the system model.\n\n"
      ]
    },
    {
      "cell_type": "code",
      "execution_count": null,
      "metadata": {
        "collapsed": false
      },
      "outputs": [],
      "source": [
        "# Create the motor model\nmotor = mt.SynchronousMotorSaturatedLUT(\n    p=2, R_s=.23, psi_s_data=data.psi_s.ravel(), i_s_data=data.i_s.ravel())\n# Magnetically linear PM-SyRM model\n# motor = mt.SynchronousMotor(p=2, R_s=.23, L_d=4.2e-3, L_q=17.3e-3, psi_f=.17)\nmech = mt.Mechanics(J=.015)\nconv = mt.Inverter(u_dc=400)\nmdl = mt.SynchronousMotorDrive(motor, mech, conv)"
      ]
    },
    {
      "cell_type": "markdown",
      "metadata": {},
      "source": [
        "Configure the control system.\n\n"
      ]
    },
    {
      "cell_type": "code",
      "execution_count": null,
      "metadata": {
        "collapsed": false
      },
      "outputs": [],
      "source": [
        "pars = mt.SynchronousMotorVHzObsCtrlPars(\n    p=2,\n    R_s=.23,\n    L_d=4.2e-3,\n    L_q=17.3e-3,\n    psi_f=.17,\n    alpha_psi=2*np.pi*50,\n    zeta_inf=.1,\n    T_s=250e-6,\n    rate_limit=2*np.pi*120*10,\n    i_s_max=2*base.i,\n    psi_s_min=.5*base.psi,\n    psi_s_max=1.5*base.psi,\n)\nctrl = mt.SynchronousMotorVHzObsCtrl(pars)"
      ]
    },
    {
      "cell_type": "markdown",
      "metadata": {},
      "source": [
        "Set the speed reference and the external load torque.\n\n"
      ]
    },
    {
      "cell_type": "code",
      "execution_count": null,
      "metadata": {
        "collapsed": false
      },
      "outputs": [],
      "source": [
        "# Speed reference\ntimes = np.array([0, .125, .25, .375, .5, .625, .75, .875, 1])*8\nvalues = np.array([0, 0, 1, 1, 0, -1, -1, 0, 0])*base.w\nctrl.w_m_ref = mt.Sequence(times, values)\n\n# Quadratic load torque profile (corresponding to pumps and fans)\nk = base.tau_nom/(base.w/base.p)**2\nmdl.mech.tau_L_w = lambda w_M: k*w_M**2*np.sign(w_M)\n\n# Rated load torque step at t = 2.5 s (set k = 0 above)\n# mdl.mech.tau_L_t = lambda t: (t > 2.5)*base.tau_nom"
      ]
    },
    {
      "cell_type": "markdown",
      "metadata": {},
      "source": [
        "Create the simulation object and simulate it. You can also enable the PWM\nmodel (which makes simulation slower). One-sampling-period computational\ndelay is modeled.\n\n"
      ]
    },
    {
      "cell_type": "code",
      "execution_count": null,
      "metadata": {
        "collapsed": false
      },
      "outputs": [],
      "source": [
        "sim = mt.Simulation(mdl, ctrl, pwm=False, delay=1)\nsim.simulate(t_stop=8)"
      ]
    },
    {
      "cell_type": "markdown",
      "metadata": {},
      "source": [
        "Plot results in per-unit values. By omitting the argument `base` you can plot\nthe results in SI units.\n\n"
      ]
    },
    {
      "cell_type": "code",
      "execution_count": null,
      "metadata": {
        "collapsed": false
      },
      "outputs": [],
      "source": [
        "mt.plot(sim, base=base)"
      ]
    }
  ],
  "metadata": {
    "kernelspec": {
      "display_name": "Python 3",
      "language": "python",
      "name": "python3"
    },
    "language_info": {
      "codemirror_mode": {
        "name": "ipython",
        "version": 3
      },
      "file_extension": ".py",
      "mimetype": "text/x-python",
      "name": "python",
      "nbconvert_exporter": "python",
      "pygments_lexer": "ipython3",
      "version": "3.8.2"
    }
  },
  "nbformat": 4,
  "nbformat_minor": 0
}