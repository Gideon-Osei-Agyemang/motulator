{
  "cells": [
    {
      "cell_type": "code",
      "execution_count": null,
      "metadata": {
        "collapsed": false
      },
      "outputs": [],
      "source": [
        "%matplotlib inline"
      ]
    },
    {
      "cell_type": "markdown",
      "metadata": {},
      "source": [
        "\n# Example simulation script: vector-controlled 2.2-kW PMSM drive.\n\nSensorless vector control is used in the default parameters.\n"
      ]
    },
    {
      "cell_type": "code",
      "execution_count": null,
      "metadata": {
        "collapsed": false
      },
      "outputs": [],
      "source": [
        "from time import time\nimport numpy as np\nimport motulator as mt\n\n# Start computing the execution time\nstart_time = time()\n\n# Base values\nbase = mt.BaseValues(U_nom=370, I_nom=4.3, f_nom=75, tau_nom=14,\n                     P_nom=2.2e3, p=3)\n\n# System model\nmotor = mt.SynchronousMotor()\nmech = mt.Mechanics()\nconv = mt.Inverter()\n# conv = mt.PWMInverter()\nmdl = mt.SynchronousMotorDrive(motor, mech, conv)\n\n# Controller\npars = mt.SynchronousMotorVectorCtrlPars(sensorless=True)\n# pars.plot(base)  # Plot control look-up tables\nctrl = mt.SynchronousMotorVectorCtrl()\n\n# Set the speed reference and the external load torque\n# Speed reference\ntimes = np.array([0, .125, .25, .375, .5, .625,  .75, .875, 1])*4\nvalues = np.array([0,  0, 1,   1, 0,  -1, -1,   0, 0])*base.w\nctrl.w_m_ref = mt.Sequence(times, values)\n# External load torque\ntimes = np.array([0, .125, .125, .875, .875, 1])*4\nvalues = np.array([0, 0, 1, 1, 0, 0])*base.tau_nom\nmdl.mech.tau_L_ext = mt.Sequence(times, values)\n\n# Print the system model and controller parameters\nprint(str(mdl)+'\\n\\n'+str(ctrl))\n\n# Create the simulation object and simulate it\nsim = mt.Simulation(mdl, ctrl, base=base, t_stop=4)\nsim.simulate()\n\n# Print the execution time\nprint('\\nExecution time: {:.2f} s'.format((time() - start_time)))\n\n# Plot results\nmt.plot_pu(sim)"
      ]
    }
  ],
  "metadata": {
    "kernelspec": {
      "display_name": "Python 3",
      "language": "python",
      "name": "python3"
    },
    "language_info": {
      "codemirror_mode": {
        "name": "ipython",
        "version": 3
      },
      "file_extension": ".py",
      "mimetype": "text/x-python",
      "name": "python",
      "nbconvert_exporter": "python",
      "pygments_lexer": "ipython3",
      "version": "3.8.2"
    }
  },
  "nbformat": 4,
  "nbformat_minor": 0
}