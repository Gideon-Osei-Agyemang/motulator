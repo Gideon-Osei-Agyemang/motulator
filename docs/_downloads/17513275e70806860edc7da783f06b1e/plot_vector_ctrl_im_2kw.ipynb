{
  "cells": [
    {
      "cell_type": "code",
      "execution_count": null,
      "metadata": {
        "collapsed": false
      },
      "outputs": [],
      "source": [
        "%matplotlib inline"
      ]
    },
    {
      "cell_type": "markdown",
      "metadata": {},
      "source": [
        "\n# Vector control: 2.2-kW induction motor\n\nThis example simulates sensorless vector control of a 2.2-kW induction motor\ndrive.\n"
      ]
    },
    {
      "cell_type": "markdown",
      "metadata": {},
      "source": [
        "Import the packages.\n\n"
      ]
    },
    {
      "cell_type": "code",
      "execution_count": null,
      "metadata": {
        "collapsed": false
      },
      "outputs": [],
      "source": [
        "import numpy as np\nimport motulator as mt"
      ]
    },
    {
      "cell_type": "markdown",
      "metadata": {},
      "source": [
        "Compute base values based on the nominal values (just for figures).\n\n"
      ]
    },
    {
      "cell_type": "code",
      "execution_count": null,
      "metadata": {
        "collapsed": false
      },
      "outputs": [],
      "source": [
        "base = mt.BaseValues(\n    U_nom=400,  # Line-line rms voltage\n    I_nom=5,  # Rms current\n    f_nom=50,  # Frequency\n    tau_nom=14.6,  # Torque\n    P_nom=2.2e3,  # Power\n    p=2)  # Number of pole pairs"
      ]
    },
    {
      "cell_type": "markdown",
      "metadata": {},
      "source": [
        "Configure the system model.\n\n"
      ]
    },
    {
      "cell_type": "code",
      "execution_count": null,
      "metadata": {
        "collapsed": false
      },
      "outputs": [],
      "source": [
        "# Configure the induction motor using its inverse-\u0393 parameters\nmotor = mt.InductionMotorInvGamma(R_s=3.7, R_R=2.1, L_sgm=.021, L_M=.224, p=2)\n# Alternatively configure the induction motor using its \u0393 parameters\n# motor = mt.InductionMotor(R_s=3.7, R_r=2.5, L_ell=.023, L_s=.245, p=2)\n\nmech = mt.Mechanics(J=.015)  # Mechanics model\nconv = mt.Inverter(u_dc=540)  # Inverter model\nmdl = mt.InductionMotorDrive(motor, mech, conv)  # System model"
      ]
    },
    {
      "cell_type": "markdown",
      "metadata": {},
      "source": [
        "Configure the control system. You may also try to change the parameters.\nNotice that the drive may become unstable if you for example have too large\nparameter errors. This may happen in real drives as well.\n\n"
      ]
    },
    {
      "cell_type": "code",
      "execution_count": null,
      "metadata": {
        "collapsed": false
      },
      "outputs": [],
      "source": [
        "ctrl = mt.InductionMotorVectorCtrl(\n    mt.InductionMotorVectorCtrlPars(\n        sensorless=True,  # Enable sensorless mode\n        T_s=250e-6,  # Sampling period\n        alpha_c=2*np.pi*200,  # Current-control bandwidth\n        alpha_o=2*np.pi*40,  # Observer bandwidth\n        alpha_s=2*np.pi*4,  # Speed-control bandwidth\n        psi_R_nom=.9,  # Nominal rotor flux\n        i_s_max=1.5*base.i,  # Current limit\n        tau_M_max=1.5*base.tau_nom,  # Torque limit (for the speed ctrl)\n        J=.015,  # Inertia estimate (for the speed ctrl)\n        p=2,  # Number of pole pairs\n        # Inverse-\u0393 model parameter estimates\n        R_s=3.7,\n        R_R=2.1,\n        L_sgm=.021,\n        L_M=.224))"
      ]
    },
    {
      "cell_type": "markdown",
      "metadata": {},
      "source": [
        "Set the speed reference and the external load torque. You may also try to\nuncomment the field-weakening sequence. More complicated sequences could be\ncreated as functions.\n\n"
      ]
    },
    {
      "cell_type": "code",
      "execution_count": null,
      "metadata": {
        "collapsed": false
      },
      "outputs": [],
      "source": [
        "# Simple acceleration and load torque step\nctrl.w_m_ref = lambda t: (t > .2)*(.5*base.w)\nmdl.mech.tau_L_t = lambda t: (t > .75)*base.tau_nom\n\n# No load, field-weakening (uncomment to try)\n# mdl.mech.tau_L_t = lambda t: 0\n# ctrl.w_m_ref = lambda t: (t > .2)*(2*base.w)"
      ]
    },
    {
      "cell_type": "markdown",
      "metadata": {},
      "source": [
        "Create the simulation object and simulate it. You can also enable the PWM\nmodel (which makes simulation slower). One-sampling-period computational\ndelay is modeled.\n\n"
      ]
    },
    {
      "cell_type": "code",
      "execution_count": null,
      "metadata": {
        "collapsed": false
      },
      "outputs": [],
      "source": [
        "sim = mt.Simulation(mdl, ctrl, pwm=False, delay=1)\nsim.simulate(t_stop=1.5)"
      ]
    },
    {
      "cell_type": "markdown",
      "metadata": {},
      "source": [
        "Plot results in per-unit values. By omitting the argument `base` you can plot\nthe results in SI units.\n\n"
      ]
    },
    {
      "cell_type": "code",
      "execution_count": null,
      "metadata": {
        "collapsed": false
      },
      "outputs": [],
      "source": [
        "mt.plot(sim, base=base)"
      ]
    }
  ],
  "metadata": {
    "kernelspec": {
      "display_name": "Python 3",
      "language": "python",
      "name": "python3"
    },
    "language_info": {
      "codemirror_mode": {
        "name": "ipython",
        "version": 3
      },
      "file_extension": ".py",
      "mimetype": "text/x-python",
      "name": "python",
      "nbconvert_exporter": "python",
      "pygments_lexer": "ipython3",
      "version": "3.8.2"
    }
  },
  "nbformat": 4,
  "nbformat_minor": 0
}