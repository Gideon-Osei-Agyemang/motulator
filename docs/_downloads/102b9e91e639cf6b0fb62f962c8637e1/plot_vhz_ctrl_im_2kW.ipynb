{
  "cells": [
    {
      "cell_type": "code",
      "execution_count": null,
      "metadata": {
        "collapsed": false
      },
      "outputs": [],
      "source": [
        "%matplotlib inline"
      ]
    },
    {
      "cell_type": "markdown",
      "metadata": {},
      "source": [
        "\n# V/Hz-controlled 2.2-kW induction motor drive\n\nA diode bridge, stiff three-phase grid, and a DC link is modeled. The default\nparameters correspond to an open-loop V/Hz control.\n"
      ]
    },
    {
      "cell_type": "markdown",
      "metadata": {},
      "source": [
        "Import the packages and start the timer.\n\n"
      ]
    },
    {
      "cell_type": "code",
      "execution_count": null,
      "metadata": {
        "collapsed": false
      },
      "outputs": [],
      "source": [
        "from time import time\nimport motulator as mt\nstart_time = time()"
      ]
    },
    {
      "cell_type": "markdown",
      "metadata": {},
      "source": [
        "Compute base values based on the nominal values (just for figures).\n\n"
      ]
    },
    {
      "cell_type": "code",
      "execution_count": null,
      "metadata": {
        "collapsed": false
      },
      "outputs": [],
      "source": [
        "base = mt.BaseValues(\n    U_nom=400, I_nom=5, f_nom=50, tau_nom=14.6, P_nom=2.2e3, p=2)"
      ]
    },
    {
      "cell_type": "markdown",
      "metadata": {},
      "source": [
        "Create the system model.\n\n"
      ]
    },
    {
      "cell_type": "code",
      "execution_count": null,
      "metadata": {
        "collapsed": false
      },
      "outputs": [],
      "source": [
        "# Saturation model\nL_s = mt.SaturableStatorInductance()\n# Motor model with main-flux saturation included\nmotor = mt.InductionMotorSaturated(\n    R_s=3.7, R_r=2.5, L_ell=.023, L_s=L_s, p=2)\n# Mechanics model\nmech = mt.Mechanics(J=.015)\n# Frequency converter with a diode bridge\nconv = mt.FrequencyConverter(L=2e-3, C=235e-6, U_g=400, f_g=50)\n# Collect the system model\nmdl = mt.InductionMotorDriveDiode(motor, mech, conv)"
      ]
    },
    {
      "cell_type": "markdown",
      "metadata": {},
      "source": [
        "Control system (parametrized as open-loop V/Hz control).\n\n"
      ]
    },
    {
      "cell_type": "code",
      "execution_count": null,
      "metadata": {
        "collapsed": false
      },
      "outputs": [],
      "source": [
        "ctrl = mt.InductionMotorVHzCtrl(mt.InductionMotorVHzCtrlPars(\n    R_s=0, R_R=0, k_u=0, k_w=0))"
      ]
    },
    {
      "cell_type": "markdown",
      "metadata": {},
      "source": [
        "Set the speed reference and the external load torque. More complicated\nsignals could be defined as functions.\n\n"
      ]
    },
    {
      "cell_type": "code",
      "execution_count": null,
      "metadata": {
        "collapsed": false
      },
      "outputs": [],
      "source": [
        "ctrl.w_m_ref = lambda t: (t > .2)*(1.*base.w)\nmdl.mech.tau_L_ext = lambda t: (t > 1.)*base.tau_nom"
      ]
    },
    {
      "cell_type": "markdown",
      "metadata": {},
      "source": [
        "Create the simulation object and simulate it.\n\n"
      ]
    },
    {
      "cell_type": "code",
      "execution_count": null,
      "metadata": {
        "collapsed": false
      },
      "outputs": [],
      "source": [
        "sim = mt.Simulation(mdl, ctrl, base=base, t_stop=1.5)\nsim.simulate()\n# Print the execution time\nprint('\\nExecution time: {:.2f} s'.format((time() - start_time)))"
      ]
    },
    {
      "cell_type": "markdown",
      "metadata": {},
      "source": [
        "Plot results in per-unit values.\n\n<div class=\"alert alert-info\"><h4>Note</h4><p>The DC link of this particular example is actually unstable at 1-p.u.\n   speed at the rated load torque, since the inverter looks like a negative\n   resistance to the DC link. You could notice this instability if simulating\n   a longer period (e.g. set t_stop=2). For more information, see e.g.\n   https://doi.org/10.1109/EPE.2007.4417763</p></div>\n\n"
      ]
    },
    {
      "cell_type": "code",
      "execution_count": null,
      "metadata": {
        "collapsed": false
      },
      "outputs": [],
      "source": [
        "# sphinx_gallery_thumbnail_number = 2\nmt.plot_pu(sim)\nmt.plot_extra_pu(sim, t_zoom=(1.1, 1.125))"
      ]
    }
  ],
  "metadata": {
    "kernelspec": {
      "display_name": "Python 3",
      "language": "python",
      "name": "python3"
    },
    "language_info": {
      "codemirror_mode": {
        "name": "ipython",
        "version": 3
      },
      "file_extension": ".py",
      "mimetype": "text/x-python",
      "name": "python",
      "nbconvert_exporter": "python",
      "pygments_lexer": "ipython3",
      "version": "3.8.2"
    }
  },
  "nbformat": 4,
  "nbformat_minor": 0
}