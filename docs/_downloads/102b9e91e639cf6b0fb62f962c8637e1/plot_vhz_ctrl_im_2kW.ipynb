{
  "cells": [
    {
      "cell_type": "code",
      "execution_count": null,
      "metadata": {
        "collapsed": false
      },
      "outputs": [],
      "source": [
        "%matplotlib inline"
      ]
    },
    {
      "cell_type": "markdown",
      "metadata": {},
      "source": [
        "\n# Example simulation script: V/Hz-controlled 2.2-kW induction motor drive.\n\nA diode bridge, stiff three-phase grid, and a DC link is modeled. The default\nparameters correspond to an open-loop V/Hz control.\n"
      ]
    },
    {
      "cell_type": "code",
      "execution_count": null,
      "metadata": {
        "collapsed": false
      },
      "outputs": [],
      "source": [
        "from time import time\nimport motulator as mt\n\n# Start computing the execution time\nstart_time = time()\n\n# Compute base values based on the nominal values (just for figures)\nbase = mt.BaseValues(\n    U_nom=400, I_nom=5, f_nom=50, tau_nom=14.6, P_nom=2.2e3, p=2)\n\n# Motor model with main-flux saturation included\nL_s = mt.SaturableStatorInductance()\nmotor = mt.InductionMotorSaturated(\n    R_s=3.7, R_r=2.5, L_ell=.023, L_s=L_s, p=2)\nmech = mt.Mechanics(J=.015)\n# System model with a diode bridge\nconv = mt.FrequencyConverter(L=2e-3, C=235e-6, U_g=400, f_g=50)\nmdl = mt.InductionMotorDriveDiode(motor, mech, conv)\n\n# Control system (parametrized as open-loop V/Hz control)\nctrl = mt.InductionMotorVHzCtrl(mt.InductionMotorVHzCtrlPars(\n    R_s=0, R_R=0, k_u=0, k_w=0))\n\n# Set the speed reference and the external load torque\nctrl.w_m_ref = lambda t: (t > .2)*(1.*base.w)\nmdl.mech.tau_L_ext = lambda t: (t > 1.)*base.tau_nom\n\n# Create the simulation object and simulate it\nsim = mt.Simulation(mdl, ctrl, base=base, t_stop=1.5)\nsim.simulate()\n\n# Print the execution time\nprint('\\nExecution time: {:.2f} s'.format((time() - start_time)))\n\n# Plot results in per unit values\nmt.plot_pu(sim)\nmt.plot_extra_pu(sim, t_zoom=(1.1, 1.125))"
      ]
    }
  ],
  "metadata": {
    "kernelspec": {
      "display_name": "Python 3",
      "language": "python",
      "name": "python3"
    },
    "language_info": {
      "codemirror_mode": {
        "name": "ipython",
        "version": 3
      },
      "file_extension": ".py",
      "mimetype": "text/x-python",
      "name": "python",
      "nbconvert_exporter": "python",
      "pygments_lexer": "ipython3",
      "version": "3.8.2"
    }
  },
  "nbformat": 4,
  "nbformat_minor": 0
}