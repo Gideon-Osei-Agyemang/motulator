{
  "cells": [
    {
      "cell_type": "code",
      "execution_count": null,
      "metadata": {
        "collapsed": false
      },
      "outputs": [],
      "source": [
        "%matplotlib inline"
      ]
    },
    {
      "cell_type": "markdown",
      "metadata": {},
      "source": [
        "\n# Vector control: 5-kW PM-SyRM\n\nThis example simulates sensorless vector control of a 5-kW permanent-magnet\nsynchronous reluctance motor. Control look-up tables are also plotted.\n"
      ]
    },
    {
      "cell_type": "markdown",
      "metadata": {},
      "source": [
        "Import the packages.\n\n"
      ]
    },
    {
      "cell_type": "code",
      "execution_count": null,
      "metadata": {
        "collapsed": false
      },
      "outputs": [],
      "source": [
        "import numpy as np\nimport motulator as mt"
      ]
    },
    {
      "cell_type": "markdown",
      "metadata": {},
      "source": [
        "Compute base values based on the nominal values (just for figures).\n\n"
      ]
    },
    {
      "cell_type": "code",
      "execution_count": null,
      "metadata": {
        "collapsed": false
      },
      "outputs": [],
      "source": [
        "base = mt.BaseValues(\n    U_nom=220, I_nom=15.6, f_nom=85, tau_nom=19, P_nom=5.07e3, p=2)"
      ]
    },
    {
      "cell_type": "markdown",
      "metadata": {},
      "source": [
        "Configure the system model.\n\n"
      ]
    },
    {
      "cell_type": "code",
      "execution_count": null,
      "metadata": {
        "collapsed": false
      },
      "outputs": [],
      "source": [
        "# Configure magnetically linear motor model\nmotor = mt.SynchronousMotor(p=2, R_s=.2, L_d=4e-3, L_q=17e-3, psi_f=.134)\nmech = mt.Mechanics(J=.0042)\nconv = mt.Inverter(u_dc=310)\nmdl = mt.SynchronousMotorDrive(motor, mech, conv)"
      ]
    },
    {
      "cell_type": "markdown",
      "metadata": {},
      "source": [
        "Configure the control system.\n\n"
      ]
    },
    {
      "cell_type": "code",
      "execution_count": null,
      "metadata": {
        "collapsed": false
      },
      "outputs": [],
      "source": [
        "pars = mt.SynchronousMotorVectorCtrlPars(\n    sensorless=True,\n    p=2,\n    R_s=.2,\n    L_d=4e-3,\n    L_q=17e-3,\n    psi_f=.134,\n    J=.0042,\n    tau_M_max=2*base.tau_nom,  # Maximum torque\n    i_s_max=2*base.i,  # Maximum current\n    T_s=125e-6,  # Sampling period\n    k_u=.9,  # Voltage margin\n    w_nom=base.w,  # Nominal speed\n    w_o=2*np.pi*200,  # Observer bandwidth\n    alpha_c=2*np.pi*200,  # Current control bandwidth\n    alpha_fw=2*np.pi*20,  # Field-weakening bandwidth\n    alpha_s=2*np.pi*4,  # Speed control bandwidth\n)\nctrl = mt.SynchronousMotorVectorCtrl(pars)"
      ]
    },
    {
      "cell_type": "markdown",
      "metadata": {},
      "source": [
        "Plot control characteristics, computed using constant L_d, L_q, and psi_f.\n\n"
      ]
    },
    {
      "cell_type": "code",
      "execution_count": null,
      "metadata": {
        "collapsed": false
      },
      "outputs": [],
      "source": [
        "# sphinx_gallery_thumbnail_number = 1\ntq = mt.TorqueCharacteristics(pars)\ntq.plot_current_loci(pars.i_s_max, base)\ntq.plot_torque_flux(pars.i_s_max, base)\ntq.plot_torque_current(pars.i_s_max, base)\n# tq.plot_flux_loci(pars.i_s_max, base)"
      ]
    },
    {
      "cell_type": "markdown",
      "metadata": {},
      "source": [
        "Set the speed reference and the external load torque.\n\n"
      ]
    },
    {
      "cell_type": "code",
      "execution_count": null,
      "metadata": {
        "collapsed": false
      },
      "outputs": [],
      "source": [
        "# Acceleration and load torque step\nctrl.w_m_ref = lambda t: (t > .1)*base.w*3\n# Quadratic load torque profile\nk = .05*base.tau_nom/(base.w/base.p)**2\nmdl.mech.tau_L_w = lambda w_M: k*w_M**2*np.sign(w_M)"
      ]
    },
    {
      "cell_type": "markdown",
      "metadata": {},
      "source": [
        "Create the simulation object and simulate it.\n\n"
      ]
    },
    {
      "cell_type": "code",
      "execution_count": null,
      "metadata": {
        "collapsed": false
      },
      "outputs": [],
      "source": [
        "sim = mt.Simulation(mdl, ctrl, pwm=False)\nsim.simulate(t_stop=.6)"
      ]
    },
    {
      "cell_type": "markdown",
      "metadata": {},
      "source": [
        "Plot results in per-unit values.\n\n"
      ]
    },
    {
      "cell_type": "code",
      "execution_count": null,
      "metadata": {
        "collapsed": false
      },
      "outputs": [],
      "source": [
        "mt.plot(sim, base=base)"
      ]
    }
  ],
  "metadata": {
    "kernelspec": {
      "display_name": "Python 3",
      "language": "python",
      "name": "python3"
    },
    "language_info": {
      "codemirror_mode": {
        "name": "ipython",
        "version": 3
      },
      "file_extension": ".py",
      "mimetype": "text/x-python",
      "name": "python",
      "nbconvert_exporter": "python",
      "pygments_lexer": "ipython3",
      "version": "3.8.2"
    }
  },
  "nbformat": 4,
  "nbformat_minor": 0
}