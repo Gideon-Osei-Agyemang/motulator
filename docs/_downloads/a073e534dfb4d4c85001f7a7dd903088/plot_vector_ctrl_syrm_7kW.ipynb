{
  "cells": [
    {
      "cell_type": "code",
      "execution_count": null,
      "metadata": {
        "collapsed": false
      },
      "outputs": [],
      "source": [
        "%matplotlib inline"
      ]
    },
    {
      "cell_type": "markdown",
      "metadata": {},
      "source": [
        "\n# Example simulation script: vector-controlled 6.7-kW SyRM drive.\n\nSensorless vector control is used in the default parameters.\n"
      ]
    },
    {
      "cell_type": "code",
      "execution_count": null,
      "metadata": {
        "collapsed": false
      },
      "outputs": [],
      "source": [
        "from time import time\nimport numpy as np\nimport motulator as mt\n\n# Start computing the execution time\nstart_time = time()\n\n# Base values\nbase = mt.BaseValues(U_nom=370, I_nom=15.5, f_nom=105.8, tau_nom=20.1,\n                     P_nom=6.7e3, p=2)\n\n# System model\nmotor = mt.SynchronousMotor(p=2, R_s=.54, L_d=41.5e-3, L_q=6.2e-3, psi_f=0)\nmech = mt.Mechanics(J=.015)\nconv = mt.Inverter()\nmdl = mt.SynchronousMotorDrive(motor, mech, conv)\n\n# Controller\npars = mt.SynchronousMotorVectorCtrlPars(\n    sensorless=True,\n    T_s=250e-6, delay=1,\n    alpha_c=2*np.pi*200, alpha_fw=2*np.pi*20, alpha_s=2*np.pi*4,\n    w_o=2*np.pi*80,     # Used only in the sensorless mode\n    tau_M_max=2*base.tau_nom,\n    i_s_max=2*base.i,\n    i_sd_min=.25*base.i,  # Can be 0 in the sensored mode\n    k_u=.95, w_nom=2*np.pi*105.8,\n    p=2, R_s=.54, L_d=41.5e-3, L_q=6.2e-3, psi_f=0,\n    J=.015)\n# pars.plot(base)  # Plot control look-up tables\nctrl = mt.SynchronousMotorVectorCtrl(pars)\n\n# Set the speed reference and the external load torque\n# Speed reference\ntimes = np.array([0, .125, .25, .375, .5, .625,  .75, .875, 1])*4\nvalues = np.array([0,  0, 1,   1, 0,  -1, -1,   0, 0])*base.w\nctrl.w_m_ref = mt.Sequence(times, values)\n# External load torque\ntimes = np.array([0, .125, .125, .875, .875, 1])*4\nvalues = np.array([0, 0, 1, 1, 0, 0])*base.tau_nom\nmdl.mech.tau_L_ext = mt.Sequence(times, values)\n\n# Print the system model and controller parameters\nprint(str(mdl)+'\\n\\n'+str(ctrl))\n\n# Create the simulation object and simulate it\nsim = mt.Simulation(mdl, ctrl, base=base, t_stop=4)\nsim.simulate()\n\n# Print the execution time\nprint('\\nExecution time: {:.2f} s'.format((time() - start_time)))\n\n# Plot results\nmt.plot_pu(sim)"
      ]
    }
  ],
  "metadata": {
    "kernelspec": {
      "display_name": "Python 3",
      "language": "python",
      "name": "python3"
    },
    "language_info": {
      "codemirror_mode": {
        "name": "ipython",
        "version": 3
      },
      "file_extension": ".py",
      "mimetype": "text/x-python",
      "name": "python",
      "nbconvert_exporter": "python",
      "pygments_lexer": "ipython3",
      "version": "3.8.2"
    }
  },
  "nbformat": 4,
  "nbformat_minor": 0
}