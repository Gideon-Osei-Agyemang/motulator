{
  "cells": [
    {
      "cell_type": "code",
      "execution_count": null,
      "metadata": {
        "collapsed": false
      },
      "outputs": [],
      "source": [
        "%matplotlib inline"
      ]
    },
    {
      "cell_type": "markdown",
      "metadata": {},
      "source": [
        "\n# V/Hz control: 2.2-kW induction motor\n\nA diode bridge, stiff three-phase grid, and a DC link is modeled. The default\nparameters correspond to open-loop V/Hz control.\n"
      ]
    },
    {
      "cell_type": "markdown",
      "metadata": {},
      "source": [
        "Import the package.\n\n"
      ]
    },
    {
      "cell_type": "code",
      "execution_count": null,
      "metadata": {
        "collapsed": false
      },
      "outputs": [],
      "source": [
        "import numpy as np\nfrom time import time\nimport motulator as mt"
      ]
    },
    {
      "cell_type": "markdown",
      "metadata": {},
      "source": [
        "Compute base values based on the nominal values (just for figures).\n\n"
      ]
    },
    {
      "cell_type": "code",
      "execution_count": null,
      "metadata": {
        "collapsed": false
      },
      "outputs": [],
      "source": [
        "base = mt.BaseValues(\n    U_nom=400, I_nom=5, f_nom=50, tau_nom=14.6, P_nom=2.2e3, p=2)"
      ]
    },
    {
      "cell_type": "markdown",
      "metadata": {},
      "source": [
        "Create the system model.\n\n"
      ]
    },
    {
      "cell_type": "code",
      "execution_count": null,
      "metadata": {
        "collapsed": false
      },
      "outputs": [],
      "source": [
        "# \u0393-equivalent motor model with main-flux saturation included\nmotor = mt.InductionMotorSaturated(\n    R_s=3.7, R_r=2.5, L_ell=.023, L_su=.34, beta=.84, S=7, p=2)\n# Mechanics model\nmech = mt.Mechanics(J=.015)\n# Frequency converter with a diode bridge\nconv = mt.FrequencyConverter(L=2e-3, C=235e-6, U_g=400, f_g=50)\n# Collect the system model\nmdl = mt.InductionMotorDriveDiode(motor, mech, conv)"
      ]
    },
    {
      "cell_type": "markdown",
      "metadata": {},
      "source": [
        "Control system (parametrized as open-loop V/Hz control).\n\n"
      ]
    },
    {
      "cell_type": "code",
      "execution_count": null,
      "metadata": {
        "collapsed": false
      },
      "outputs": [],
      "source": [
        "ctrl = mt.InductionMotorVHzCtrl(\n    mt.InductionMotorVHzCtrlPars(R_s=0, R_R=0, k_u=0, k_w=0))"
      ]
    },
    {
      "cell_type": "markdown",
      "metadata": {},
      "source": [
        "Set the speed reference and the external load torque. More complicated\nsignals could be defined as functions.\n\n"
      ]
    },
    {
      "cell_type": "code",
      "execution_count": null,
      "metadata": {
        "collapsed": false
      },
      "outputs": [],
      "source": [
        "ctrl.w_m_ref = lambda t: (t > .2)*(1.*base.w)\n\n# Quadratic load torque profile (corresponding to pumps and fans)\nk = 1.1*base.tau_nom/(base.w/base.p)**2\nmdl.mech.tau_L_w = lambda w_M: k*w_M**2*np.sign(w_M)\n\n# Stepwise load torque at t = 1 s, 20% of the rated torque\nmdl.mech.tau_L_t = lambda t: (t > 1.)*base.tau_nom*.2"
      ]
    },
    {
      "cell_type": "markdown",
      "metadata": {},
      "source": [
        "Create the simulation object and simulate it. The option `pwm=True` enables\nthe model for the carrier comparison.\n\n"
      ]
    },
    {
      "cell_type": "code",
      "execution_count": null,
      "metadata": {
        "collapsed": false
      },
      "outputs": [],
      "source": [
        "sim = mt.Simulation(mdl, ctrl, pwm=True)\nt_start = time()  # Start the timer\nsim.simulate(t_stop=1.5)\nprint('\\nExecution time: {:.2f} s'.format((time() - t_start)))"
      ]
    },
    {
      "cell_type": "markdown",
      "metadata": {},
      "source": [
        "Plot results in per-unit values.\n\n<div class=\"alert alert-info\"><h4>Note</h4><p>The DC link of this particular example is actually unstable at 1-p.u.\n   speed at the rated load torque, since the inverter looks like a negative\n   resistance to the DC link. You could notice this instability if simulating\n   a longer period (e.g. set `t_stop=2`). For more information, see e.g.\n   https://doi.org/10.1109/EPE.2007.4417763</p></div>\n\n"
      ]
    },
    {
      "cell_type": "code",
      "execution_count": null,
      "metadata": {
        "collapsed": false
      },
      "outputs": [],
      "source": [
        "# sphinx_gallery_thumbnail_number = 2\nmt.plot(sim, base=base)\nmt.plot_extra(sim, t_span=(1.1, 1.125), base=base)"
      ]
    }
  ],
  "metadata": {
    "kernelspec": {
      "display_name": "Python 3",
      "language": "python",
      "name": "python3"
    },
    "language_info": {
      "codemirror_mode": {
        "name": "ipython",
        "version": 3
      },
      "file_extension": ".py",
      "mimetype": "text/x-python",
      "name": "python",
      "nbconvert_exporter": "python",
      "pygments_lexer": "ipython3",
      "version": "3.8.2"
    }
  },
  "nbformat": 4,
  "nbformat_minor": 0
}