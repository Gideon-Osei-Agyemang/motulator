{
  "cells": [
    {
      "cell_type": "code",
      "execution_count": null,
      "metadata": {
        "collapsed": false
      },
      "outputs": [],
      "source": [
        "%matplotlib inline"
      ]
    },
    {
      "cell_type": "markdown",
      "metadata": {},
      "source": [
        "\n# Motulator basic tutorial\n\nThis is a basic tutorial on how to use the motulator. In order to plot matlab figures on to the jupyter notebook\ninterface, first run the jupyter notebook magic command below:\n"
      ]
    },
    {
      "cell_type": "code",
      "execution_count": null,
      "metadata": {
        "collapsed": false
      },
      "outputs": [],
      "source": [
        "get_ipython().run_line_magic('matplotlib', 'inline')"
      ]
    },
    {
      "cell_type": "markdown",
      "metadata": {},
      "source": [
        "## Usage\nInstall motulator by using the pip command:\n\n"
      ]
    },
    {
      "cell_type": "code",
      "execution_count": null,
      "metadata": {
        "collapsed": false
      },
      "outputs": [],
      "source": [
        "get_ipython().system('pip install motulator')"
      ]
    },
    {
      "cell_type": "markdown",
      "metadata": {},
      "source": [
        "After installation, motulator can be used by creating a continuous-time system model, a discrete-time controller,\nand a simulation object, as shown below:\n\n"
      ]
    },
    {
      "cell_type": "code",
      "execution_count": null,
      "metadata": {
        "collapsed": false
      },
      "outputs": [],
      "source": [
        "import motulator as mt\n\n# Continuous-time model for the drive system\nmotor = mt.InductionMotor()     # Motor model\nmech = mt.Mechanics()           # Mechanics model\nconv = mt.Inverter()            # Converter model\nmdl = mt.InductionMotorDrive(motor, mech, conv)\n\n# Discrete-time controller\npars = mt.InductionMotorVectorCtrlPars()    # Dataclass of control parameters\nctrl = mt.InductionMotorVectorCtrl(pars)    # Sensorless controller\n\n# Create a simulation object, simulate, and plot example figures\nsim = mt.Simulation(mdl, ctrl)\nsim.simulate()\nmt.plot(sim)"
      ]
    },
    {
      "cell_type": "markdown",
      "metadata": {},
      "source": [
        "## Configuration of parameters\nMotulator simulation tool is based on the control of an induction motor or synchronous motor drive. Motulator\nincludes scalar control (or Volts-per-Hertz-control) and rotor-flux-oriented vector control. In order to build\nthe link between the continuous-time design and discrete-time implementation, all the control algorithms are\nimplemented in the discrete-time domain based on forward Euler approximation.\n\nThe module motulator/model/im.py describes the induction motor model data according to the \u0393 model (Gamma model).\nThe \u0393 model is chosen, since it can be extended with the magnetic saturation model in a staightforward manner.\nIf the magnetic saturation is omitted, the \u0393 model is mathematically identical to the inverse-\u0393 model of the\ninduction motor, which is shown below:\n\n<img src=\"file://../../parts/Inverse-gamma_model.png\">\n\nMotor model can be created by constructing the induction motor object as shown below:\n\n"
      ]
    },
    {
      "cell_type": "code",
      "execution_count": null,
      "metadata": {
        "collapsed": false
      },
      "outputs": [],
      "source": [
        "import motulator as mt\n\n# Motor model with custom parameters\nmotor = mt.InductionMotor(R_s=3.7, R_r=2.5, L_ell=.023, L_s=.245, p=2)"
      ]
    },
    {
      "cell_type": "markdown",
      "metadata": {},
      "source": [
        "Here the motor parameters mean the following: R_s is stator resistance, R_r is rotor resistance, L_ell is leakage\ninductance, L_s is stator inductance and p is the number of pole pairs. The value of parameters R_s, R_r, L_ell, L_s\nand p can be configured by changing their values when passing to mt.InductionMotor constructor.\n\nThe rated values of the motor are important for configuring how figures are plotted:\n\n"
      ]
    },
    {
      "cell_type": "code",
      "execution_count": null,
      "metadata": {
        "collapsed": false
      },
      "outputs": [],
      "source": [
        "# Compute base values based on the nominal values (just for figures)\nbase = mt.BaseValues(U_nom=400,        # Line-line rms voltage\n                     I_nom=5,          # Rms current\n                     f_nom=50,         # Frequency\n                     tau_nom=14.6,     # Torque\n                     P_nom=2.2e3,      # Power\n                     p=2)              # Number of pole pairs"
      ]
    },
    {
      "cell_type": "markdown",
      "metadata": {},
      "source": [
        "To configure the mechanics model and converter model parameters,\nthe following parameters are passed into their class constructors:\n\n"
      ]
    },
    {
      "cell_type": "code",
      "execution_count": null,
      "metadata": {
        "collapsed": false
      },
      "outputs": [],
      "source": [
        "mech = mt.Mechanics(J=.015)         # Mechanics model with custom parameters\nconv = mt.Inverter(u_dc0=540)       # Inverter model with custom parameters"
      ]
    },
    {
      "cell_type": "markdown",
      "metadata": {},
      "source": [
        "Here J is the total moment of inertia of the motor and u_dc0 is the DC-bus voltage of inverter.\nAfter all of that has been configured, the continuous-time model for an induction motor drive\ncan be constructed with the following command:\n\n"
      ]
    },
    {
      "cell_type": "code",
      "execution_count": null,
      "metadata": {
        "collapsed": false
      },
      "outputs": [],
      "source": [
        "mdl = mt.InductionMotorDrive(motor, mech, conv)  # System model"
      ]
    },
    {
      "cell_type": "markdown",
      "metadata": {},
      "source": [
        "This interconnects the subsystems of an induction motor drive and provides an interface for the solver.\nMore complicated systems could be modeled using a similar template.\n\nMotulator includes Volts-per-Hertz-control and rotor-flux-oriented vector control, which are configured similarly\nto how the system model is configured. In the case of vector control, the configuration for the parameters of the\ncontrol system can look something like this:\n\n"
      ]
    },
    {
      "cell_type": "code",
      "execution_count": null,
      "metadata": {
        "collapsed": false
      },
      "outputs": [],
      "source": [
        "import numpy as np\n\n# Control system\nctrl = mt.InductionMotorVectorCtrl(mt.InductionMotorVectorCtrlPars(\n    sensorless=True,                # Enable sensorless mode\n    T_s=250e-6,                     # Sampling period\n    delay=1,                        # Amount of computational delay\n    alpha_c=2*np.pi*200,            # Current-control bandwidth\n    alpha_o=2*np.pi*40,             # Observer bandwidth\n    alpha_s=2*np.pi*4,              # Speed-control bandwidth\n    psi_R_nom=.9,                   # Nominal rotor flux\n    i_s_max=1.5*base.i,             # Current limit\n    tau_M_max=1.5*base.tau_nom,     # Torque limit (for the speed ctrl)\n    J=.015,                         # Inertia estimate (for the speed ctrl)\n    p=2,                            # Number of pole pairs\n    # Inverse-Gamma model parameter estimates\n    R_s=3.7, R_R=2.1, L_sgm=.021, L_M=.224))"
      ]
    },
    {
      "cell_type": "markdown",
      "metadata": {},
      "source": [
        "Speed reference and the external load torque for the induction motors can be configured in this way:\n\n"
      ]
    },
    {
      "cell_type": "code",
      "execution_count": null,
      "metadata": {
        "collapsed": false
      },
      "outputs": [],
      "source": [
        "# Set the speed reference and the external load torque\nctrl.w_m_ref = lambda t: (t > .2)*(.5*base.w)\nmdl.mech.tau_L_ext = lambda t: (t > .75)*base.tau_nom"
      ]
    },
    {
      "cell_type": "markdown",
      "metadata": {},
      "source": [
        "Simulation object has a simulate function, that solves the continuous-time model and calls the discrete-time\ncontroller. Base values for plotting figures is determined by base parameter and the simulation stop time is\ndetermined by t_stop parameter (which is 1 by default). Simulation object is created as follows:\n\n"
      ]
    },
    {
      "cell_type": "code",
      "execution_count": null,
      "metadata": {
        "collapsed": false
      },
      "outputs": [],
      "source": [
        "# Create the simulation object\nsim = mt.Simulation(mdl, ctrl, base=base, t_stop=1.5)"
      ]
    },
    {
      "cell_type": "markdown",
      "metadata": {},
      "source": [
        "To simulate the simulation object, run the command:\n\n"
      ]
    },
    {
      "cell_type": "code",
      "execution_count": null,
      "metadata": {
        "collapsed": false
      },
      "outputs": [],
      "source": [
        "sim.simulate()"
      ]
    },
    {
      "cell_type": "markdown",
      "metadata": {},
      "source": [
        "Plotting can be done either by plotting figures in SI units:\n\n"
      ]
    },
    {
      "cell_type": "code",
      "execution_count": null,
      "metadata": {
        "collapsed": false
      },
      "outputs": [],
      "source": [
        "mt.plot(sim)"
      ]
    },
    {
      "cell_type": "markdown",
      "metadata": {},
      "source": [
        "Or alternatively plotting figures in per units:\n\n"
      ]
    },
    {
      "cell_type": "code",
      "execution_count": null,
      "metadata": {
        "collapsed": false
      },
      "outputs": [],
      "source": [
        "mt.plot_pu(sim)"
      ]
    },
    {
      "cell_type": "markdown",
      "metadata": {},
      "source": [
        "In this tutorial, induction motor was used to simulate the model. However, motulator also supports functionality for\nsynchronous motors and more. More detailed information on configuration parameters can be found from the motulator\ndocumentation API reference.\n\n"
      ]
    }
  ],
  "metadata": {
    "kernelspec": {
      "display_name": "Python 3",
      "language": "python",
      "name": "python3"
    },
    "language_info": {
      "codemirror_mode": {
        "name": "ipython",
        "version": 3
      },
      "file_extension": ".py",
      "mimetype": "text/x-python",
      "name": "python",
      "nbconvert_exporter": "python",
      "pygments_lexer": "ipython3",
      "version": "3.8.2"
    }
  },
  "nbformat": 4,
  "nbformat_minor": 0
}