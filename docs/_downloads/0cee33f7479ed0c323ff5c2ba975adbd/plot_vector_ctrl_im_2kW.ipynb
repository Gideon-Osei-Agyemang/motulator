{
  "cells": [
    {
      "cell_type": "code",
      "execution_count": null,
      "metadata": {
        "collapsed": false
      },
      "outputs": [],
      "source": [
        "%matplotlib inline"
      ]
    },
    {
      "cell_type": "markdown",
      "metadata": {},
      "source": [
        "\n# Example simulation script: vector-controlled 2.2-kW induction motor drive.\n\nSensorless vector control is used in the default parameters.\n"
      ]
    },
    {
      "cell_type": "code",
      "execution_count": null,
      "metadata": {
        "collapsed": false
      },
      "outputs": [],
      "source": [
        "from time import time\nimport numpy as np\nimport motulator as mt\n\n# Start computing the execution time\nstart_time = time()\n\n# Compute base values based on the nominal values (just for figures)\nbase = mt.BaseValues(U_nom=400,        # Line-line rms voltage\n                     I_nom=5,          # Rms current\n                     f_nom=50,         # Frequency\n                     tau_nom=14.6,     # Torque\n                     P_nom=2.2e3,      # Power\n                     p=2)              # Number of pole pairs\n\n# Gamma-equivalent motor model\nmotor = mt.InductionMotor(R_s=3.7, R_r=2.5, L_ell=.023, L_s=.245, p=2)\nmech = mt.Mechanics(J=.015)         # Mechanics model\nconv = mt.Inverter(u_dc0=540)       # Inverter model\n# conv = mt.PWMInverter(u_dc0=540)  # Inverter with PWM modeled\nmdl = mt.InductionMotorDrive(motor, mech, conv)  # System model\n\n# Control system\nctrl = mt.InductionMotorVectorCtrl(mt.InductionMotorVectorCtrlPars(\n    sensorless=True,                # Enable sensorless mode\n    T_s=250e-6,                     # Sampling period\n    delay=1,                        # Amount of computational delay\n    alpha_c=2*np.pi*200,            # Current-control bandwidth\n    alpha_o=2*np.pi*40,             # Observer bandwidth\n    alpha_s=2*np.pi*4,              # Speed-control bandwidth\n    psi_R_nom=.9,                   # Nominal rotor flux\n    i_s_max=1.5*base.i,             # Current limit\n    tau_M_max=1.5*base.tau_nom,     # Torque limit (for the speed ctrl)\n    J=.015,                         # Inertia estimate (for the speed ctrl)\n    p=2,                            # Number of pole pairs\n    # Inverse-Gamma model parameter estimates\n    R_s=3.7, R_R=2.1, L_sgm=.021, L_M=.224))\n\n# Set the speed reference and the external load torque\nctrl.w_m_ref = lambda t: (t > .2)*(.5*base.w)\nmdl.mech.tau_L_ext = lambda t: (t > .75)*base.tau_nom\n\n# No load, field-weakening (uncomment to try)\n# mdl.mech.tau_L_ext = lambda t: 0\n# ctrl.w_m_ref = lambda t: (t > .2)*(2*base.w)\n\n# Create the simulation object and simulate it\nsim = mt.Simulation(mdl, ctrl, base=base, t_stop=1.5)\nsim.simulate()\n\n# Print the execution time\nprint('\\nExecution time: {:.2f} s'.format((time() - start_time)))\n\n# Plot results\nmt.plot_pu(sim)\n# mt.plot(sim)"
      ]
    }
  ],
  "metadata": {
    "kernelspec": {
      "display_name": "Python 3",
      "language": "python",
      "name": "python3"
    },
    "language_info": {
      "codemirror_mode": {
        "name": "ipython",
        "version": 3
      },
      "file_extension": ".py",
      "mimetype": "text/x-python",
      "name": "python",
      "nbconvert_exporter": "python",
      "pygments_lexer": "ipython3",
      "version": "3.8.2"
    }
  },
  "nbformat": 4,
  "nbformat_minor": 0
}